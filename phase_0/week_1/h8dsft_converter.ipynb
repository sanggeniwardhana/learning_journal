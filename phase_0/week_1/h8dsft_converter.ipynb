{
 "cells": [
  {
   "cell_type": "code",
   "execution_count": 1,
   "metadata": {},
   "outputs": [],
   "source": [
    "import numpy as np"
   ]
  },
  {
   "cell_type": "markdown",
   "metadata": {},
   "source": [
    "konversi suhu untuk skala kelvin, celcius, fahrenheit"
   ]
  },
  {
   "cell_type": "code",
   "execution_count": 15,
   "metadata": {},
   "outputs": [],
   "source": [
    "#Pembuatan Fungsi konversi suhu\n",
    "\n",
    "def Converter1 (skala, skala_tujuan,besar_suhu) :\n",
    "    if skala == \"C\" : #kondisi jika skala awal adalah celcius\n",
    "        if skala_tujuan == \"K\": #kondisi untuk mengkonversi dari celcius ke Kelvin\n",
    "            print(f' {besar_suhu} derajat dalam Celcius = {(besar_suhu)+273} K')\n",
    "        elif skala_tujuan == \"F\": #kondisi untuk mengkonversi dari kelvin ke Fahrenheit\n",
    "            print(f' {besar_suhu} derajat dalam Celcius = {(besar_suhu*(9/5))+32} F')\n",
    "        else :\n",
    "            print(\"skala suhu tujuan harus dalam \\\"K\\\" atau \\\"F\\\"\")\n",
    "    elif skala == \"K\" : #kondisi jika skala awal adalah Kelvin\n",
    "        if skala_tujuan == \"C\": #kondisi untuk mengkonversi dari kelvin ke Celcius\n",
    "            print(f' {besar_suhu} derajat dalam Kelvin = {(besar_suhu)-273} C')\n",
    "        elif skala_tujuan == \"F\": #kondisi untuk mengkonversi dari kelvin ke Fahrenheit\n",
    "            print(f' {besar_suhu} derajat dalam Kelvin = {((besar_suhu-273)*(9/5))+32} F')\n",
    "        else :\n",
    "            print(\"skala suhu tujuan harus dalam \\\"C\\\" atau \\\"F\\\"\")\n",
    "    elif skala == \"F\" : #kondisi jika skala awal adalah Fahrenheit\n",
    "        if skala_tujuan == \"C\": #kondisi untuk mengkonversi dari Fahrenheit ke Celcius\n",
    "            print(f' {besar_suhu} derajat dalam Fahrenheit = {(besar_suhu-32)*5/9} C')\n",
    "        elif skala_tujuan == \"K\": #kondisi untuk mengkonversi dari Fahrenheit ke Kelvin\n",
    "            print(f' {besar_suhu} derajat dalam Fahrenheit = {((besar_suhu-32)*(5/9))+32} K')\n",
    "        else : ##kondisi jika tidak memenuhi skala yang ditentukan\n",
    "            print(\"skala suhu tujuan harus dalam \\\"C\\\" atau \\\"K\\\"\")\n",
    "    else :\n",
    "        print(\"skala suhu awal harus dalam \\\"C\\\" , \\\"F\\\", atau \\\"K\\\"\")"
   ]
  },
  {
   "cell_type": "markdown",
   "metadata": {},
   "source": [
    "Pada fungsi diatas terdapat 3 variabel\n",
    "1. skala = jenis skala awal mula temperatur yang akan dikonversi\n",
    "2. skala_tujuan = jenis skala temperatur yang akan dituju untuk dikonversi dari temperature awal\n",
    "3. besar_suhu =  adalah besar temperature yang akan dikonversi dalam angka (int)"
   ]
  },
  {
   "cell_type": "code",
   "execution_count": 14,
   "metadata": {},
   "outputs": [
    {
     "name": "stdout",
     "output_type": "stream",
     "text": [
      " 27 derajat dalam Celcius = 300 K\n"
     ]
    }
   ],
   "source": [
    "skala = (input(\"Masukan tipe skala yang akan dikonversi (\\\"C\\\" , \\\"F\\\", atau \\\"K\\\")\")).upper()\n",
    "skala_tujuan = (input(\"Masukan tipe skala tujuan yang akan dikonversi (\\\"C\\\" , \\\"F\\\", atau \\\"K\\\")\")).upper()\n",
    "besar_suhu= int(input(\"Masukan besar suhu awal\"))\n",
    "Converter1(skala,skala_tujuan,besar_suhu)"
   ]
  },
  {
   "cell_type": "markdown",
   "metadata": {},
   "source": [
    "2. Konversi "
   ]
  }
 ],
 "metadata": {
  "interpreter": {
   "hash": "dedcbabed0925ebe06719ebd126ef9552a9004fd594b20bad8ccd605d5e48902"
  },
  "kernelspec": {
   "display_name": "Python 3.10.2 ('EnvZero': venv)",
   "language": "python",
   "name": "python3"
  },
  "language_info": {
   "codemirror_mode": {
    "name": "ipython",
    "version": 3
   },
   "file_extension": ".py",
   "mimetype": "text/x-python",
   "name": "python",
   "nbconvert_exporter": "python",
   "pygments_lexer": "ipython3",
   "version": "3.10.2"
  },
  "orig_nbformat": 4
 },
 "nbformat": 4,
 "nbformat_minor": 2
}
