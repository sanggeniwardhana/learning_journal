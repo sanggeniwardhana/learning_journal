{
 "cells": [
  {
   "cell_type": "code",
   "execution_count": 4,
   "metadata": {},
   "outputs": [],
   "source": [
    "def fungsi_cetak (var1,var2):\n",
    "    '''\n",
    "    ini adalah fungsi cetak\n",
    "    '''\n",
    "    print(f'saya ingin mencetak {var1}, dia adalah instruktur {var2}')\n",
    "    return fungsi_cetak"
   ]
  },
  {
   "cell_type": "code",
   "execution_count": 6,
   "metadata": {},
   "outputs": [
    {
     "name": "stdout",
     "output_type": "stream",
     "text": [
      "saya ingin mencetak anggen, dia adalah instruktur hacktiv8\n"
     ]
    },
    {
     "data": {
      "text/plain": [
       "<function __main__.fungsi_cetak(var1, var2)>"
      ]
     },
     "execution_count": 6,
     "metadata": {},
     "output_type": "execute_result"
    }
   ],
   "source": [
    "fungsi_cetak(\"anggen\",\"hacktiv8\")"
   ]
  },
  {
   "cell_type": "code",
   "execution_count": 7,
   "metadata": {},
   "outputs": [
    {
     "name": "stdout",
     "output_type": "stream",
     "text": [
      "saya ingin mencetak Anggen, dia adalah instruktur hacktiv8\n"
     ]
    },
    {
     "data": {
      "text/plain": [
       "<function __main__.fungsi_cetak(var1, var2)>"
      ]
     },
     "execution_count": 7,
     "metadata": {},
     "output_type": "execute_result"
    }
   ],
   "source": [
    "fungsi_cetak(var2=\"hacktiv8\",var1=\"Anggen\")"
   ]
  },
  {
   "cell_type": "code",
   "execution_count": 13,
   "metadata": {},
   "outputs": [],
   "source": [
    "def changeme (mylist):\n",
    "    ''' This changes a passed list into this function'''\n",
    "    mylist = mylist + [1,2,3,4]\n",
    "    print(\"\\r/ Values inside the function :\", mylist)\n",
    "    return mylist"
   ]
  },
  {
   "cell_type": "code",
   "execution_count": 16,
   "metadata": {},
   "outputs": [],
   "source": [
    "mylist = [10,20,30,40]"
   ]
  },
  {
   "cell_type": "code",
   "execution_count": 17,
   "metadata": {},
   "outputs": [
    {
     "data": {
      "text/plain": [
       "[10, 20, 30, 40]"
      ]
     },
     "execution_count": 17,
     "metadata": {},
     "output_type": "execute_result"
    }
   ],
   "source": [
    "mylist"
   ]
  },
  {
   "cell_type": "code",
   "execution_count": 18,
   "metadata": {},
   "outputs": [
    {
     "name": "stdout",
     "output_type": "stream",
     "text": [
      "/ Values inside the function : [10, 20, 30, 40, 1, 2, 3, 4]\n"
     ]
    },
    {
     "data": {
      "text/plain": [
       "[10, 20, 30, 40, 1, 2, 3, 4]"
      ]
     },
     "execution_count": 18,
     "metadata": {},
     "output_type": "execute_result"
    }
   ],
   "source": [
    "changeme(mylist)"
   ]
  },
  {
   "cell_type": "code",
   "execution_count": 19,
   "metadata": {},
   "outputs": [
    {
     "data": {
      "text/plain": [
       "[10, 20, 30, 40]"
      ]
     },
     "execution_count": 19,
     "metadata": {},
     "output_type": "execute_result"
    }
   ],
   "source": [
    "mylist"
   ]
  },
  {
   "cell_type": "code",
   "execution_count": 20,
   "metadata": {},
   "outputs": [],
   "source": [
    "def deteksi_angka (x):\n",
    "    if x%2==0 :\n",
    "        print(f'angka {x} adalah angka genap')\n",
    "    else :\n",
    "        print(f'angka {x} adalah angka ganjil')"
   ]
  },
  {
   "cell_type": "code",
   "execution_count": 22,
   "metadata": {},
   "outputs": [
    {
     "name": "stdout",
     "output_type": "stream",
     "text": [
      "angka 10 adalah angka genap\n"
     ]
    }
   ],
   "source": [
    "deteksi_angka(10)"
   ]
  },
  {
   "cell_type": "code",
   "execution_count": 24,
   "metadata": {},
   "outputs": [],
   "source": [
    "def tambah (*x):\n",
    "    return sum(x)"
   ]
  },
  {
   "cell_type": "code",
   "execution_count": 29,
   "metadata": {},
   "outputs": [
    {
     "data": {
      "text/plain": [
       "55"
      ]
     },
     "execution_count": 29,
     "metadata": {},
     "output_type": "execute_result"
    }
   ],
   "source": [
    "tambah(1,2,3,4,5,6,7,8,9,10)"
   ]
  },
  {
   "cell_type": "code",
   "execution_count": 33,
   "metadata": {},
   "outputs": [],
   "source": [
    "def bmi_calculator (nama,berat,tinggi):\n",
    "    bmi = berat/(tinggi**2)\n",
    "    if bmi<18.5 :\n",
    "        print(f'{nama} score bmi anda sebesar {bmi}, anda adalah underweight ')\n",
    "    elif 24.9 >= bmi >= 18.5 :\n",
    "        print(f'{nama} score bmi anda sebesar {bmi}, anda adalah normal ')\n",
    "    else :\n",
    "        print(f'{nama} score bmi anda sebesar {bmi}, anda adalah overweight ')\n"
   ]
  },
  {
   "cell_type": "code",
   "execution_count": 34,
   "metadata": {},
   "outputs": [
    {
     "name": "stdout",
     "output_type": "stream",
     "text": [
      "anggen score bmi anda sebesar 23.437499999999996, anda adalah normal \n"
     ]
    }
   ],
   "source": [
    "nama = input(\"ketikkan nama anda :\")\n",
    "berat = int(input(\"ketikkan berat anda : \"))\n",
    "tinggi = float(input(\"ketikkan tinggi anda\"))\n",
    "bmi_calculator(nama=nama,berat=berat,tinggi=tinggi)"
   ]
  },
  {
   "cell_type": "code",
   "execution_count": 46,
   "metadata": {},
   "outputs": [],
   "source": [
    "def det_nama(nama):\n",
    "    return nama == 'hacktiv8'\n",
    "    # if nama == \"johnwick\":\n",
    "    #     print(\"True\")\n",
    "    # else:\n",
    "    #     print(\"false\")"
   ]
  },
  {
   "cell_type": "code",
   "execution_count": 47,
   "metadata": {},
   "outputs": [
    {
     "data": {
      "text/plain": [
       "True"
      ]
     },
     "execution_count": 47,
     "metadata": {},
     "output_type": "execute_result"
    }
   ],
   "source": [
    "det_nama(\"hacktiv8\")"
   ]
  },
  {
   "cell_type": "code",
   "execution_count": null,
   "metadata": {},
   "outputs": [],
   "source": []
  }
 ],
 "metadata": {
  "interpreter": {
   "hash": "ba927d3468654a05a8cc47f79e9ba819728feefc8f05834aa26ce9769a7df083"
  },
  "kernelspec": {
   "display_name": "Python 3.9.7 ('base')",
   "language": "python",
   "name": "python3"
  },
  "language_info": {
   "codemirror_mode": {
    "name": "ipython",
    "version": 3
   },
   "file_extension": ".py",
   "mimetype": "text/x-python",
   "name": "python",
   "nbconvert_exporter": "python",
   "pygments_lexer": "ipython3",
   "version": "3.9.7"
  },
  "orig_nbformat": 4
 },
 "nbformat": 4,
 "nbformat_minor": 2
}
