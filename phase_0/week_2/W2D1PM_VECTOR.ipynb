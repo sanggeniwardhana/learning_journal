{
  "nbformat": 4,
  "nbformat_minor": 0,
  "metadata": {
    "colab": {
      "name": "W2D1PM-VECTOR.ipynb",
      "provenance": [],
      "collapsed_sections": []
    },
    "kernelspec": {
      "name": "python3",
      "display_name": "Python 3"
    },
    "language_info": {
      "name": "python"
    }
  },
  "cells": [
    {
      "cell_type": "markdown",
      "source": [
        "# VECTOR"
      ],
      "metadata": {
        "id": "hSKKVHdKVkDR"
      }
    },
    {
      "cell_type": "code",
      "execution_count": null,
      "metadata": {
        "id": "b1I5CX5KVe7g"
      },
      "outputs": [],
      "source": [
        "import numpy as np\n",
        "import matplotlib.pyplot as plt"
      ]
    },
    {
      "cell_type": "code",
      "source": [
        ""
      ],
      "metadata": {
        "colab": {
          "base_uri": "https://localhost:8080/",
          "height": 269
        },
        "id": "ZFGLcJfGV_gb",
        "outputId": "adc70f1a-adc2-4ad0-a416-62b8d2c6e125"
      },
      "execution_count": null,
      "outputs": [
        {
          "output_type": "display_data",
          "data": {
            "text/plain": [
              "<Figure size 432x288 with 1 Axes>"
            ],
            "image/png": "[encoded data removed]"
          },
          "metadata": {
            "needs_background": "light"
          }
        }
      ]
    },
    {
      "cell_type": "code",
      "source": [
        "# penjumlahan 2 array\n",
        "a = np.array([1, 2, 3])\n",
        "b = np.array([4, 5, 6])\n",
        "\n",
        "a + b"
      ],
      "metadata": {
        "colab": {
          "base_uri": "https://localhost:8080/"
        },
        "id": "Qh1lVFzJSOg8",
        "outputId": "779ebcda-5595-421d-b2e5-f7420876c005"
      },
      "execution_count": null,
      "outputs": [
        {
          "output_type": "execute_result",
          "data": {
            "text/plain": [
              "array([5, 7, 9])"
            ]
          },
          "metadata": {},
          "execution_count": 6
        }
      ]
    },
    {
      "cell_type": "code",
      "source": [
        "# penjumlaha 2 list\n",
        "k = [1,2,3]\n",
        "l = [4,5,6]\n",
        "\n",
        "k + l"
      ],
      "metadata": {
        "colab": {
          "base_uri": "https://localhost:8080/"
        },
        "id": "dtD6ZO8vSf77",
        "outputId": "5cc3296c-0544-42c5-9b39-bd886b2d2216"
      },
      "execution_count": null,
      "outputs": [
        {
          "output_type": "execute_result",
          "data": {
            "text/plain": [
              "[1, 2, 3, 4, 5, 6]"
            ]
          },
          "metadata": {},
          "execution_count": 5
        }
      ]
    },
    {
      "cell_type": "code",
      "source": [
        "a[1:]"
      ],
      "metadata": {
        "colab": {
          "base_uri": "https://localhost:8080/"
        },
        "id": "FlcADcmoSvzI",
        "outputId": "7d3d8f97-f628-42b4-a674-2b7e881c7204"
      },
      "execution_count": null,
      "outputs": [
        {
          "output_type": "execute_result",
          "data": {
            "text/plain": [
              "array([2, 3])"
            ]
          },
          "metadata": {},
          "execution_count": 10
        }
      ]
    },
    {
      "cell_type": "markdown",
      "source": [
        "## Vector Norm"
      ],
      "metadata": {
        "id": "nU8f-z4lUdFP"
      }
    },
    {
      "cell_type": "code",
      "source": [
        "import matplotlib.pyplot as plt\n",
        "\n",
        "def plot_vector2d(vector2d, origin=[0, 0], **options):\n",
        "    return plt.arrow(origin[0], origin[1], vector2d[0], vector2d[1],\n",
        "              head_width=0.2, head_length=0.3, length_includes_head=True,\n",
        "              **options)"
      ],
      "metadata": {
        "id": "HXvxfgw4Ukas"
      },
      "execution_count": null,
      "outputs": []
    },
    {
      "cell_type": "code",
      "source": [
        "arr = np.array([3,4])\n",
        "\n",
        "plot_vector2d(arr)\n",
        "plt.axis([0,5,0,5]) # rentang axis sumbu x dan y\n",
        "plt.axvline(0)\n",
        "plt.axhline(0)\n",
        "plt.grid()\n",
        "plt.show()"
      ],
      "metadata": {
        "colab": {
          "base_uri": "https://localhost:8080/",
          "height": 269
        },
        "id": "QJg64mrYUdR2",
        "outputId": "439bda4e-0dde-4df5-c6a5-753bfe227841"
      },
      "execution_count": null,
      "outputs": [
        {
          "output_type": "display_data",
          "data": {
            "text/plain": [
              "<Figure size 432x288 with 1 Axes>"
            ],
            "image/png": "[encoded data removed]"
          },
          "metadata": {
            "needs_background": "light"
          }
        }
      ]
    },
    {
      "cell_type": "code",
      "source": [
        "# vector norm\n",
        "np.linalg.norm(arr)"
      ],
      "metadata": {
        "colab": {
          "base_uri": "https://localhost:8080/"
        },
        "id": "QRsD8aDeVI3r",
        "outputId": "5717c0d0-6029-4771-f685-416d8737053f"
      },
      "execution_count": null,
      "outputs": [
        {
          "output_type": "execute_result",
          "data": {
            "text/plain": [
              "5.0"
            ]
          },
          "metadata": {},
          "execution_count": 15
        }
      ]
    },
    {
      "cell_type": "code",
      "source": [
        "# manhattan distance\n",
        "np.linalg.norm(arr, 1)"
      ],
      "metadata": {
        "colab": {
          "base_uri": "https://localhost:8080/"
        },
        "id": "ndDQUy3mVQH-",
        "outputId": "d4e6a4cc-6ce9-41e6-df25-383cce7b19c6"
      },
      "execution_count": null,
      "outputs": [
        {
          "output_type": "execute_result",
          "data": {
            "text/plain": [
              "7.0"
            ]
          },
          "metadata": {},
          "execution_count": 16
        }
      ]
    },
    {
      "cell_type": "code",
      "source": [
        "a"
      ],
      "metadata": {
        "colab": {
          "base_uri": "https://localhost:8080/"
        },
        "id": "nJBY3SgkVpiW",
        "outputId": "553d5701-63e2-4e55-868c-3917574280b8"
      },
      "execution_count": null,
      "outputs": [
        {
          "output_type": "execute_result",
          "data": {
            "text/plain": [
              "array([1, 2, 3])"
            ]
          },
          "metadata": {},
          "execution_count": 17
        }
      ]
    },
    {
      "cell_type": "code",
      "source": [
        "np.linalg.norm(a)"
      ],
      "metadata": {
        "colab": {
          "base_uri": "https://localhost:8080/"
        },
        "id": "o_kykf7XVr7a",
        "outputId": "1ae8bae9-bd84-4ca4-df0c-3b8658de350e"
      },
      "execution_count": null,
      "outputs": [
        {
          "output_type": "execute_result",
          "data": {
            "text/plain": [
              "3.7416573867739413"
            ]
          },
          "metadata": {},
          "execution_count": 21
        }
      ]
    },
    {
      "cell_type": "markdown",
      "source": [
        "# Operasi Aritmatika"
      ],
      "metadata": {
        "id": "MUuJD7AeV2_-"
      }
    },
    {
      "cell_type": "markdown",
      "source": [
        "## penjumlahan"
      ],
      "metadata": {
        "id": "Nx9RmMjZWOyd"
      }
    },
    {
      "cell_type": "code",
      "source": [
        "print(a, b)"
      ],
      "metadata": {
        "colab": {
          "base_uri": "https://localhost:8080/"
        },
        "id": "RIAp28oJWbHB",
        "outputId": "bc3443cc-3e87-4153-df93-a78e6999cc99"
      },
      "execution_count": null,
      "outputs": [
        {
          "output_type": "stream",
          "name": "stdout",
          "text": [
            "[1 2 3] [4 5 6]\n"
          ]
        }
      ]
    },
    {
      "cell_type": "code",
      "source": [
        "# penjumlahan vektor dengan skalar\n",
        "10 + a"
      ],
      "metadata": {
        "colab": {
          "base_uri": "https://localhost:8080/"
        },
        "id": "844H8FU2WUSh",
        "outputId": "ac778c86-77da-45e3-dc73-c0a5f19b640b"
      },
      "execution_count": null,
      "outputs": [
        {
          "output_type": "execute_result",
          "data": {
            "text/plain": [
              "array([11, 12, 13])"
            ]
          },
          "metadata": {},
          "execution_count": 23
        }
      ]
    },
    {
      "cell_type": "code",
      "source": [
        "# penjumlahan vektor dengan vektor\n",
        "a + b"
      ],
      "metadata": {
        "colab": {
          "base_uri": "https://localhost:8080/"
        },
        "id": "JnjapixsWt4d",
        "outputId": "19af7743-5117-4c06-c657-f1e904ba88b1"
      },
      "execution_count": null,
      "outputs": [
        {
          "output_type": "execute_result",
          "data": {
            "text/plain": [
              "array([5, 7, 9])"
            ]
          },
          "metadata": {},
          "execution_count": 24
        }
      ]
    },
    {
      "cell_type": "code",
      "source": [
        "c = np.array([5, 7, 5, 9, 0])\n",
        "a + c # akan muncul pesan error karena perbedaan shape/elemen"
      ],
      "metadata": {
        "colab": {
          "base_uri": "https://localhost:8080/",
          "height": 182
        },
        "id": "1-gFTBm_W3Dk",
        "outputId": "c57463d8-b9e5-496d-c54c-eaffe2feb52d"
      },
      "execution_count": null,
      "outputs": [
        {
          "output_type": "error",
          "ename": "ValueError",
          "evalue": "ignored",
          "traceback": [
            "\u001b[0;31m---------------------------------------------------------------------------\u001b[0m",
            "\u001b[0;31mValueError\u001b[0m                                Traceback (most recent call last)",
            "\u001b[0;32m<ipython-input-26-53756c944ddc>\u001b[0m in \u001b[0;36m<module>\u001b[0;34m()\u001b[0m\n\u001b[1;32m      1\u001b[0m \u001b[0mc\u001b[0m \u001b[0;34m=\u001b[0m \u001b[0mnp\u001b[0m\u001b[0;34m.\u001b[0m\u001b[0marray\u001b[0m\u001b[0;34m(\u001b[0m\u001b[0;34m[\u001b[0m\u001b[0;36m5\u001b[0m\u001b[0;34m,\u001b[0m \u001b[0;36m7\u001b[0m\u001b[0;34m,\u001b[0m \u001b[0;36m5\u001b[0m\u001b[0;34m,\u001b[0m \u001b[0;36m9\u001b[0m\u001b[0;34m,\u001b[0m \u001b[0;36m0\u001b[0m\u001b[0;34m]\u001b[0m\u001b[0;34m)\u001b[0m\u001b[0;34m\u001b[0m\u001b[0;34m\u001b[0m\u001b[0m\n\u001b[0;32m----> 2\u001b[0;31m \u001b[0ma\u001b[0m \u001b[0;34m+\u001b[0m \u001b[0mc\u001b[0m\u001b[0;34m\u001b[0m\u001b[0;34m\u001b[0m\u001b[0m\n\u001b[0m",
            "\u001b[0;31mValueError\u001b[0m: operands could not be broadcast together with shapes (3,) (5,) "
          ]
        }
      ]
    },
    {
      "cell_type": "code",
      "source": [
        "arr_1 =  np.array([1,2])\n",
        "arr_2 = np.array([3,4])"
      ],
      "metadata": {
        "id": "Cx2KViDlXQUw"
      },
      "execution_count": null,
      "outputs": []
    },
    {
      "cell_type": "code",
      "source": [
        "plot_vector2d(arr_1, color='r')\n",
        "plot_vector2d(arr_2, origin=[1,2], color='g')\n",
        "plot_vector2d(np.array([4,6]))\n",
        "plt.axis([0,10,0,10]) # rentang axis sumbu x dan y\n",
        "plt.axvline(0)\n",
        "plt.axhline(0)\n",
        "plt.grid()\n",
        "plt.show()"
      ],
      "metadata": {
        "colab": {
          "base_uri": "https://localhost:8080/",
          "height": 269
        },
        "id": "RrEMmsabXGlJ",
        "outputId": "401fb973-1205-4a86-88bf-cf13ce137566"
      },
      "execution_count": null,
      "outputs": [
        {
          "output_type": "display_data",
          "data": {
            "text/plain": [
              "<Figure size 432x288 with 1 Axes>"
            ],
            "image/png": "[encoded data removed]"
          },
          "metadata": {
            "needs_background": "light"
          }
        }
      ]
    },
    {
      "cell_type": "code",
      "source": [
        "arr_1 + arr_2"
      ],
      "metadata": {
        "colab": {
          "base_uri": "https://localhost:8080/"
        },
        "id": "ILpjM6obXpqp",
        "outputId": "bc705a90-43bc-4dff-c103-e3774e96b21f"
      },
      "execution_count": null,
      "outputs": [
        {
          "output_type": "execute_result",
          "data": {
            "text/plain": [
              "array([4, 6])"
            ]
          },
          "metadata": {},
          "execution_count": 32
        }
      ]
    },
    {
      "cell_type": "markdown",
      "source": [
        "## pengurangan"
      ],
      "metadata": {
        "id": "C1znNvfLYICV"
      }
    },
    {
      "cell_type": "code",
      "source": [
        "# pengurangan vektor terhapad skalar\n",
        "10 - a"
      ],
      "metadata": {
        "colab": {
          "base_uri": "https://localhost:8080/"
        },
        "id": "aRoakwXbYJvG",
        "outputId": "fed64e89-900a-44b7-ca6a-af3e670bd69e"
      },
      "execution_count": null,
      "outputs": [
        {
          "output_type": "execute_result",
          "data": {
            "text/plain": [
              "array([9, 8, 7])"
            ]
          },
          "metadata": {},
          "execution_count": 35
        }
      ]
    },
    {
      "cell_type": "code",
      "source": [
        "# pengurangan vektor terhadap vektor\n",
        "a - b"
      ],
      "metadata": {
        "colab": {
          "base_uri": "https://localhost:8080/"
        },
        "id": "KevvnYV8YOWq",
        "outputId": "c93a543a-b6d4-4562-d36b-132004f6d99d"
      },
      "execution_count": null,
      "outputs": [
        {
          "output_type": "execute_result",
          "data": {
            "text/plain": [
              "array([-3, -3, -3])"
            ]
          },
          "metadata": {},
          "execution_count": 36
        }
      ]
    },
    {
      "cell_type": "markdown",
      "source": [
        "# pembagian"
      ],
      "metadata": {
        "id": "rKINSR0eYmOF"
      }
    },
    {
      "cell_type": "code",
      "source": [
        "# pembagian vektor dengan skalar\n",
        "10 / a"
      ],
      "metadata": {
        "colab": {
          "base_uri": "https://localhost:8080/"
        },
        "id": "DtsjzazoYlm_",
        "outputId": "d0d3be0c-d9de-4500-9e06-2f419a7cec9a"
      },
      "execution_count": null,
      "outputs": [
        {
          "output_type": "execute_result",
          "data": {
            "text/plain": [
              "array([10.        ,  5.        ,  3.33333333])"
            ]
          },
          "metadata": {},
          "execution_count": 37
        }
      ]
    },
    {
      "cell_type": "code",
      "source": [
        "a / 10"
      ],
      "metadata": {
        "colab": {
          "base_uri": "https://localhost:8080/"
        },
        "id": "kCZsci0YY-Ts",
        "outputId": "f89eeefa-8dec-41e7-cb6e-619d9ea3a273"
      },
      "execution_count": null,
      "outputs": [
        {
          "output_type": "execute_result",
          "data": {
            "text/plain": [
              "array([0.1, 0.2, 0.3])"
            ]
          },
          "metadata": {},
          "execution_count": 38
        }
      ]
    },
    {
      "cell_type": "code",
      "source": [
        "# pembagian vektor terhadap vektor\n",
        "a / b"
      ],
      "metadata": {
        "colab": {
          "base_uri": "https://localhost:8080/"
        },
        "id": "tOGHqfpqYt9Y",
        "outputId": "149308ac-b7e1-46e9-a4f6-489f8c458ae8"
      },
      "execution_count": null,
      "outputs": [
        {
          "output_type": "execute_result",
          "data": {
            "text/plain": [
              "array([0.25, 0.4 , 0.5 ])"
            ]
          },
          "metadata": {},
          "execution_count": 39
        }
      ]
    },
    {
      "cell_type": "markdown",
      "source": [
        "# perkalian\n",
        "- terhadap skalar\n",
        "- dengan vector (element-wise multiplication)\n",
        "- dot product"
      ],
      "metadata": {
        "id": "DyJfzKhaZOsM"
      }
    },
    {
      "cell_type": "code",
      "source": [
        "print(a, b)"
      ],
      "metadata": {
        "colab": {
          "base_uri": "https://localhost:8080/"
        },
        "id": "NlqQ25NSZwST",
        "outputId": "71d30476-50b9-4881-bcca-f23ad8b7edf6"
      },
      "execution_count": null,
      "outputs": [
        {
          "output_type": "stream",
          "name": "stdout",
          "text": [
            "[1 2 3] [4 5 6]\n"
          ]
        }
      ]
    },
    {
      "cell_type": "code",
      "source": [
        "# terhadap skalar\n",
        "a * 10"
      ],
      "metadata": {
        "colab": {
          "base_uri": "https://localhost:8080/"
        },
        "id": "_kdfkKiqZYXW",
        "outputId": "794573c3-3de2-4416-a35a-7bca02bbe0a5"
      },
      "execution_count": null,
      "outputs": [
        {
          "output_type": "execute_result",
          "data": {
            "text/plain": [
              "array([10, 20, 30])"
            ]
          },
          "metadata": {},
          "execution_count": 42
        }
      ]
    },
    {
      "cell_type": "code",
      "source": [
        "arr_3 = np.array([2, 4])\n",
        "arr_4 = arr_3 * 0.5\n",
        "\n",
        "plot_vector2d(arr_3, color='r')\n",
        "plot_vector2d(arr_4, color='g')\n",
        "\n",
        "plt.axis([0,10,0,10]) # rentang axis sumbu x dan y\n",
        "plt.axvline(0)\n",
        "plt.axhline(0)\n",
        "plt.grid()\n",
        "plt.show()"
      ],
      "metadata": {
        "colab": {
          "base_uri": "https://localhost:8080/",
          "height": 269
        },
        "id": "XnQTTamOaBBT",
        "outputId": "aef333d3-3547-43ba-c20b-94f3b488da17"
      },
      "execution_count": null,
      "outputs": [
        {
          "output_type": "display_data",
          "data": {
            "text/plain": [
              "<Figure size 432x288 with 1 Axes>"
            ],
            "image/png": "[encoded data removed]"
          },
          "metadata": {
            "needs_background": "light"
          }
        }
      ]
    },
    {
      "cell_type": "code",
      "source": [
        "arr_4 = arr_3 * 2"
      ],
      "metadata": {
        "id": "a5MX0LJyaaiO"
      },
      "execution_count": null,
      "outputs": []
    },
    {
      "cell_type": "code",
      "source": [
        "# perkalian vektor terhadap vektor\n",
        "a * b"
      ],
      "metadata": {
        "colab": {
          "base_uri": "https://localhost:8080/"
        },
        "id": "5HVXgJNUZ0jB",
        "outputId": "fba37ecc-ff1a-4f8d-b6c8-4cb5edfe828b"
      },
      "execution_count": null,
      "outputs": [
        {
          "output_type": "execute_result",
          "data": {
            "text/plain": [
              "array([ 4, 10, 18])"
            ]
          },
          "metadata": {},
          "execution_count": 43
        }
      ]
    },
    {
      "cell_type": "code",
      "source": [
        "# dot-product\n",
        "np.dot(a, b)"
      ],
      "metadata": {
        "colab": {
          "base_uri": "https://localhost:8080/"
        },
        "id": "fpHsbb_kbZhN",
        "outputId": "89a8870b-c4fb-4286-fec4-80e8b0e37f3a"
      },
      "execution_count": null,
      "outputs": [
        {
          "output_type": "execute_result",
          "data": {
            "text/plain": [
              "32"
            ]
          },
          "metadata": {},
          "execution_count": 56
        }
      ]
    },
    {
      "cell_type": "code",
      "source": [
        "a.dot(b)"
      ],
      "metadata": {
        "colab": {
          "base_uri": "https://localhost:8080/"
        },
        "id": "mV461r7Nb2UJ",
        "outputId": "ff3afeab-064e-40cf-8578-115e5c57d81a"
      },
      "execution_count": null,
      "outputs": [
        {
          "output_type": "execute_result",
          "data": {
            "text/plain": [
              "32"
            ]
          },
          "metadata": {},
          "execution_count": 57
        }
      ]
    },
    {
      "cell_type": "code",
      "source": [
        "a @ b"
      ],
      "metadata": {
        "colab": {
          "base_uri": "https://localhost:8080/"
        },
        "id": "NXk7z1u0b5or",
        "outputId": "fa5410f7-3cab-4615-922d-cc77d957ceee"
      },
      "execution_count": null,
      "outputs": [
        {
          "output_type": "execute_result",
          "data": {
            "text/plain": [
              "32"
            ]
          },
          "metadata": {},
          "execution_count": 58
        }
      ]
    },
    {
      "cell_type": "markdown",
      "source": [
        "## cosine similarity"
      ],
      "metadata": {
        "id": "gWlQ2WV0cpQt"
      }
    },
    {
      "cell_type": "code",
      "source": [
        "plot_vector2d(arr_1, color='r')\n",
        "plot_vector2d(arr_2, color='g')\n",
        "\n",
        "plt.axis([0,10,0,10]) # rentang axis sumbu x dan y\n",
        "plt.axvline(0)\n",
        "plt.axhline(0)\n",
        "plt.grid()\n",
        "plt.show()"
      ],
      "metadata": {
        "colab": {
          "base_uri": "https://localhost:8080/",
          "height": 269
        },
        "id": "j8LaRpWCcor1",
        "outputId": "eefff24f-769c-4bae-e3cd-18a1ad7da2b0"
      },
      "execution_count": null,
      "outputs": [
        {
          "output_type": "display_data",
          "data": {
            "text/plain": [
              "<Figure size 432x288 with 1 Axes>"
            ],
            "image/png": "[encoded data removed]"
          },
          "metadata": {
            "needs_background": "light"
          }
        }
      ]
    },
    {
      "cell_type": "code",
      "source": [
        "print(arr_1, arr_2)"
      ],
      "metadata": {
        "colab": {
          "base_uri": "https://localhost:8080/"
        },
        "id": "iKVwDQi8c2rg",
        "outputId": "25d4b39c-5849-4acf-cf1f-575f5a85713b"
      },
      "execution_count": null,
      "outputs": [
        {
          "output_type": "stream",
          "name": "stdout",
          "text": [
            "[1 2] [3 4]\n"
          ]
        }
      ]
    },
    {
      "cell_type": "code",
      "source": [
        "cos_theta = arr_1 @ arr_2 / (np.linalg.norm(arr_1) * np.linalg.norm(arr_2))\n",
        "cos_theta"
      ],
      "metadata": {
        "colab": {
          "base_uri": "https://localhost:8080/"
        },
        "id": "hQQHSRGLdCR9",
        "outputId": "894154c1-bc34-4a69-ce89-76a6c657fbb6"
      },
      "execution_count": null,
      "outputs": [
        {
          "output_type": "execute_result",
          "data": {
            "text/plain": [
              "0.9838699100999074"
            ]
          },
          "metadata": {},
          "execution_count": 62
        }
      ]
    },
    {
      "cell_type": "code",
      "source": [
        "# sudut 90 derajat\n",
        "plot_vector2d(np.array([3,0]), color='r')\n",
        "plot_vector2d(np.array([0,5]), color='g')\n",
        "\n",
        "plt.axis([0,5,0,5]) # rentang axis sumbu x dan y\n",
        "plt.axvline(0)\n",
        "plt.axhline(0)\n",
        "plt.grid()\n",
        "plt.show()"
      ],
      "metadata": {
        "colab": {
          "base_uri": "https://localhost:8080/",
          "height": 269
        },
        "id": "fevmvWqldWdy",
        "outputId": "bd99a6c3-175f-41a8-c2ac-24769c57ad77"
      },
      "execution_count": null,
      "outputs": [
        {
          "output_type": "display_data",
          "data": {
            "text/plain": [
              "<Figure size 432x288 with 1 Axes>"
            ],
            "image/png": "[encoded data removed]"
          },
          "metadata": {
            "needs_background": "light"
          }
        }
      ]
    },
    {
      "cell_type": "code",
      "source": [
        "arr_3 = np.array([3,0])\n",
        "arr_4 = np.array([0,5])\n",
        "\n",
        "cos_theta = arr_3 @ arr_4 / (np.linalg.norm(arr_3) * np.linalg.norm(arr_4))\n",
        "cos_theta"
      ],
      "metadata": {
        "colab": {
          "base_uri": "https://localhost:8080/"
        },
        "id": "1fxyxbYEdswu",
        "outputId": "de7238d8-ab82-477f-dd3a-b7431340ade2"
      },
      "execution_count": null,
      "outputs": [
        {
          "output_type": "execute_result",
          "data": {
            "text/plain": [
              "0.0"
            ]
          },
          "metadata": {},
          "execution_count": 74
        }
      ]
    },
    {
      "cell_type": "code",
      "source": [
        "# convert cos_theta to radian\n",
        "rad = np.arccos(cos_theta)\n",
        "rad"
      ],
      "metadata": {
        "colab": {
          "base_uri": "https://localhost:8080/"
        },
        "id": "wm-Q-KQtlU-j",
        "outputId": "b41d83b6-0dcc-4568-bbc4-c9c4d71a6a32"
      },
      "execution_count": null,
      "outputs": [
        {
          "output_type": "execute_result",
          "data": {
            "text/plain": [
              "1.5707963267948966"
            ]
          },
          "metadata": {},
          "execution_count": 75
        }
      ]
    },
    {
      "cell_type": "code",
      "source": [
        "# convert radian to degrees\n",
        "degree = np.degrees(rad)\n",
        "degree"
      ],
      "metadata": {
        "colab": {
          "base_uri": "https://localhost:8080/"
        },
        "id": "k4ZkBc08lXIo",
        "outputId": "7cd5d378-29f7-4819-9edb-e997e82970fe"
      },
      "execution_count": null,
      "outputs": [
        {
          "output_type": "execute_result",
          "data": {
            "text/plain": [
              "90.0"
            ]
          },
          "metadata": {},
          "execution_count": 76
        }
      ]
    },
    {
      "cell_type": "code",
      "source": [
        "# sudut 0 derajat\n",
        "plot_vector2d(np.array([5,0]), color='r')\n",
        "plot_vector2d(np.array([2,0]), color='g')\n",
        "\n",
        "plt.axis([0,5,0,5]) # rentang axis sumbu x dan y\n",
        "plt.axvline(0)\n",
        "plt.axhline(0)\n",
        "plt.grid()\n",
        "plt.show()"
      ],
      "metadata": {
        "colab": {
          "base_uri": "https://localhost:8080/",
          "height": 269
        },
        "id": "2ym6BYyqeyw3",
        "outputId": "77ce9bb0-8377-4abb-f406-ce8a8471cff4"
      },
      "execution_count": null,
      "outputs": [
        {
          "output_type": "display_data",
          "data": {
            "text/plain": [
              "<Figure size 432x288 with 1 Axes>"
            ],
            "image/png": "[encoded data removed]"
          },
          "metadata": {
            "needs_background": "light"
          }
        }
      ]
    },
    {
      "cell_type": "code",
      "source": [
        "arr_5 = np.array([5,0])\n",
        "arr_6 = np.array([2,0])\n",
        "\n",
        "cos_theta = arr_5 @ arr_6 / (np.linalg.norm(arr_5) * np.linalg.norm(arr_6))\n",
        "cos_theta"
      ],
      "metadata": {
        "colab": {
          "base_uri": "https://localhost:8080/"
        },
        "id": "X-cJ4DT4e5qv",
        "outputId": "dc7d3c22-4b94-4205-cf81-18685291625f"
      },
      "execution_count": null,
      "outputs": [
        {
          "output_type": "execute_result",
          "data": {
            "text/plain": [
              "1.0"
            ]
          },
          "metadata": {},
          "execution_count": 72
        }
      ]
    },
    {
      "cell_type": "markdown",
      "source": [
        "**contoh implementasi cosine similarity**"
      ],
      "metadata": {
        "id": "4ArQ3X-ef2sX"
      }
    },
    {
      "cell_type": "markdown",
      "source": [
        "- kalimat 1 = saya pergi ke rumah kakek saya\n",
        "- kalimat 2 = saya pergi ke rumah nenek saya"
      ],
      "metadata": {
        "id": "uLINpnfZgVjq"
      }
    },
    {
      "cell_type": "code",
      "source": [
        "kalimat_1 = np.array([2, 1, 1, 1, 1, 0])\n",
        "kalimat_2 = np.array([2, 1, 1, 1, 0, 1])\n",
        "\n",
        "cos_theta =kalimat_1 @ kalimat_2 / (np.linalg.norm(kalimat_1) * np.linalg.norm(kalimat_2))\n",
        "cos_theta"
      ],
      "metadata": {
        "colab": {
          "base_uri": "https://localhost:8080/"
        },
        "id": "cNYJqz7LgJHq",
        "outputId": "5cab95da-5769-4245-cb3b-dc6bb9e54f0e"
      },
      "execution_count": null,
      "outputs": [
        {
          "output_type": "execute_result",
          "data": {
            "text/plain": [
              "0.8749999999999998"
            ]
          },
          "metadata": {},
          "execution_count": 69
        }
      ]
    },
    {
      "cell_type": "markdown",
      "source": [
        "- kalimat_1 = saya pulang dari banjarmasin\n",
        "- kalimat_2 = pagi tadi saya ujian livecode"
      ],
      "metadata": {
        "id": "qinWiaNViBjS"
      }
    },
    {
      "cell_type": "code",
      "source": [
        "kal_1 = np.array([1, 1, 1, 1, 0, 0, 0, 0])\n",
        "kal_2 = np.array([1, 0, 0, 0, 1, 1, 1, 1])\n",
        "\n",
        "cos_theta = kal_1 @ kal_2 / (np.linalg.norm(kal_1) * np.linalg.norm(kal_2))\n",
        "cos_theta"
      ],
      "metadata": {
        "colab": {
          "base_uri": "https://localhost:8080/"
        },
        "id": "uo2tdxITh_vy",
        "outputId": "7abd1904-1595-40aa-c667-cb18d8ba414c"
      },
      "execution_count": null,
      "outputs": [
        {
          "output_type": "execute_result",
          "data": {
            "text/plain": [
              "0.22360679774997896"
            ]
          },
          "metadata": {},
          "execution_count": 70
        }
      ]
    },
    {
      "cell_type": "markdown",
      "source": [
        "- kal_1 = kucing mengejar tikus\n",
        "- kal_2 = tikus mengejar kucing"
      ],
      "metadata": {
        "id": "Lv9hlQ4IjaKj"
      }
    },
    {
      "cell_type": "code",
      "source": [
        "kal1 = np.array([1, 1, 1])\n",
        "kal2 = np.array([1, 1, 1])\n",
        "\n",
        "cos_theta = kal1 @ kal2 / (np.linalg.norm(kal1) * np.linalg.norm(kal2))\n",
        "cos_theta"
      ],
      "metadata": {
        "colab": {
          "base_uri": "https://localhost:8080/"
        },
        "id": "3gndT297jiem",
        "outputId": "fb8ddd1c-f95d-40f3-ca51-748a3d4b5cc0"
      },
      "execution_count": null,
      "outputs": [
        {
          "output_type": "execute_result",
          "data": {
            "text/plain": [
              "1.0000000000000002"
            ]
          },
          "metadata": {},
          "execution_count": 71
        }
      ]
    }
  ]
}